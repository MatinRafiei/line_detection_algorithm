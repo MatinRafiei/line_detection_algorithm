{
 "cells": [
  {
   "cell_type": "markdown",
   "metadata": {},
   "source": [
    "### **Import Dependencies**"
   ]
  },
  {
   "cell_type": "code",
   "execution_count": 1,
   "metadata": {},
   "outputs": [],
   "source": [
    "import cv2\n",
    "import numpy as np"
   ]
  },
  {
   "cell_type": "markdown",
   "metadata": {},
   "source": [
    "### **Define path and read the image**"
   ]
  },
  {
   "cell_type": "code",
   "execution_count": 32,
   "metadata": {},
   "outputs": [],
   "source": [
    "# define the path where our images save \n",
    "path = r\"C:\\Users\\M.Rodriguez\\OneDrive\\Desktop\\image\\1.png\"\n",
    "\n",
    "# read the image and convert it to cv2 type\n",
    "image = cv2.imread(path)\n",
    "\n",
    "# our image is grayscale but have 3 color channel, so we just need channel one  \n",
    "image = image[:,:,0]\n",
    "\n",
    "\n",
    "num_row = image.shape[0]\n",
    "num_col = image.shape[1]"
   ]
  },
  {
   "cell_type": "markdown",
   "metadata": {},
   "source": [
    "### **Crop the image**"
   ]
  },
  {
   "cell_type": "code",
   "execution_count": 33,
   "metadata": {},
   "outputs": [],
   "source": [
    "# save the number of rows and number of columns of a image\n",
    "num_row = image.shape[0]\n",
    "num_col = image.shape[1]\n",
    "\n",
    "# crop the image (to better detect the line)\n",
    "image = image[num_row - 50:num_row, 0: num_col]\n",
    "image = np.ascontiguousarray(image, dtype=np.uint8)"
   ]
  },
  {
   "cell_type": "markdown",
   "metadata": {},
   "source": [
    "### **Preprocessing the image**"
   ]
  },
  {
   "cell_type": "code",
   "execution_count": 34,
   "metadata": {},
   "outputs": [],
   "source": [
    "# for better line detection, we want to change the image to black and white, so the line is black, and other pixels are white\n",
    "\n",
    "# define a zero numpy array in the same size as the image\n",
    "thresh = np.zeros_like(image)\n",
    "\n",
    "# first set all the pixels to 255 to make them white\n",
    "thresh[:,:] = 255\n",
    "\n",
    "# the pixel_value of the line is equal to 80, so those pixel with the value of 80 set to 0 to make them black\n",
    "line_pixel_value = 80\n",
    "thresh[image == line_pixel_value] = 0\n",
    "\n",
    "# applying adge detection to the changed processed image\n",
    "thresh = cv2.Canny(thresh, 50, 150, apertureSize=3)"
   ]
  },
  {
   "cell_type": "markdown",
   "metadata": {},
   "source": [
    "### **Applying Hough Transform to processed image**"
   ]
  },
  {
   "cell_type": "code",
   "execution_count": 35,
   "metadata": {},
   "outputs": [],
   "source": [
    "# set the line to none first to go to the while loop\n",
    "lines = None\n",
    "\n",
    "\"\"\" set the value of threshold to 50 -- note that for different images with different quality we must set the specific threshold,\n",
    "        because if the threshold cant apply hough transform, the line return None, so we must decrease the value of threshold \"\"\"\n",
    "threshold = 50\n",
    "\n",
    "# while loop to apply Hough transform\n",
    "while lines is None:\n",
    "   threshold = threshold - 5\n",
    "   lines = cv2.HoughLines(thresh, rho=1, theta=np.pi/180, threshold=threshold)"
   ]
  },
  {
   "cell_type": "markdown",
   "metadata": {},
   "source": [
    "### **Calculate the slope and the angle of detected lines**"
   ]
  },
  {
   "cell_type": "code",
   "execution_count": 36,
   "metadata": {},
   "outputs": [
    {
     "name": "stdout",
     "output_type": "stream",
     "text": [
      "72.99998950939658\n"
     ]
    }
   ],
   "source": [
    "# define blank lists to save angle and slope of detected lines \n",
    "angles = []\n",
    "slopes = []\n",
    "\n",
    "for line in lines:\n",
    "   rho, theta = line[0]\n",
    "   a = np.cos(theta)\n",
    "   b = np.sin(theta)\n",
    "   slope = (-a) / b\n",
    "   intercept = rho / b\n",
    "   angle = np.arctan(slope) * 180 / np.pi\n",
    "   angles.append(angle)\n",
    "   slopes.append(slope)\n",
    "\n",
    "# calculate the mean angle to send to agent -- to use mean() we convert the array to numpy array first\n",
    "angles = np.array(angles)\n",
    "mean_angle = angles.mean()\n",
    "print(mean_angle)"
   ]
  },
  {
   "cell_type": "markdown",
   "metadata": {},
   "source": [
    "### **Showing detected lines on the main image**"
   ]
  },
  {
   "cell_type": "code",
   "execution_count": 37,
   "metadata": {},
   "outputs": [
    {
     "name": "stdout",
     "output_type": "stream",
     "text": [
      "rho: -259.0, theta: 2.844886541366577, slope: 3.2708511352539062, intercept: -885.8582153320312, angle: 72.99998950939658\n",
      "rho: -284.0, theta: 2.844886541366577, slope: 3.2708511352539062, intercept: -971.3657836914062, angle: 72.99998950939658\n"
     ]
    }
   ],
   "source": [
    "for line in lines:\n",
    "  rho, theta = line[0]\n",
    "  a = np.cos(theta)\n",
    "  b = np.sin(theta)\n",
    "  m = (-a) / b\n",
    "  n = rho / b\n",
    "  angle = np.arctan(m) * 180 / np.pi\n",
    "  print(f\"rho: {rho}, theta: {theta}, slope: {m}, intercept: {n}, angle: {angle}\")\n",
    "  x0 = a * rho\n",
    "  y0 = b * rho\n",
    "  x1 = int(x0 + 1000 * (-b))\n",
    "  y1 = int(y0 + 1000 * (a))\n",
    "  x2 = int(x0 - 1000 * (-b))\n",
    "  y2 = int(y0 - 1000 * (a))\n",
    "  cv2.line(image, (x1, y1), (x2, y2), (0, 0, 255), 2)\n",
    "\n",
    "\n",
    "# display the original image with the detected lines\n",
    "cv2.imshow('image with detected lines',image)\n",
    "cv2.waitKey(0)\n",
    "cv2.destroyAllWindows()"
   ]
  }
 ],
 "metadata": {
  "kernelspec": {
   "display_name": "pytorch_env",
   "language": "python",
   "name": "python3"
  },
  "language_info": {
   "codemirror_mode": {
    "name": "ipython",
    "version": 3
   },
   "file_extension": ".py",
   "mimetype": "text/x-python",
   "name": "python",
   "nbconvert_exporter": "python",
   "pygments_lexer": "ipython3",
   "version": "3.11.4"
  },
  "orig_nbformat": 4
 },
 "nbformat": 4,
 "nbformat_minor": 2
}
